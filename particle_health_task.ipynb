{
  "nbformat": 4,
  "nbformat_minor": 0,
  "metadata": {
    "colab": {
      "name": "particle_health_task.ipynb",
      "provenance": [],
      "collapsed_sections": []
    },
    "kernelspec": {
      "name": "python3",
      "display_name": "Python 3"
    },
    "language_info": {
      "name": "python"
    }
  },
  "cells": [
    {
      "cell_type": "code",
      "source": [
        "try:\n",
        "    # Executes if running in Google Colab\n",
        "    from google.colab import drive\n",
        "    drive.mount('gdrive/')\n",
        "    path = \"gdrive/My Drive\" # Change path to location of data if necessary\n",
        "except:\n",
        "    # Executes if running locally (e.g. Anaconda)\n",
        "    path = \"./\"\n",
        "\n"
      ],
      "metadata": {
        "colab": {
          "base_uri": "https://localhost:8080/"
        },
        "id": "vv-iQ8ajRRny",
        "outputId": "0d890614-534e-44c7-b33a-cbb91faa8a62"
      },
      "execution_count": 68,
      "outputs": [
        {
          "output_type": "stream",
          "name": "stdout",
          "text": [
            "Drive already mounted at gdrive/; to attempt to forcibly remount, call drive.mount(\"gdrive/\", force_remount=True).\n"
          ]
        }
      ]
    },
    {
      "cell_type": "code",
      "source": [
        "#imports\n",
        "import matplotlib.pyplot as plt\n",
        "import pandas as pd\n",
        "import numpy as np\n",
        "import plotly.express as px"
      ],
      "metadata": {
        "id": "OTmqk4kYAmRO"
      },
      "execution_count": 69,
      "outputs": []
    },
    {
      "cell_type": "code",
      "source": [
        "##run this if mounted on google drive  \n",
        "jsonObj = pd.read_json('/'.join((path,'encounters.jsonl')), lines=True)\n",
        "df = pd.read_csv('/'.join((path,'patients.csv')))\n",
        "##if not then run the next two lines which are commented\n",
        "#path = \"\"add in your path\"\"\n",
        "# jsonObj = pd.read_json(path + 'encounters.jsonl', lines=True)\n",
        "# df = pd.read_csv(path + 'patients.csv')\n"
      ],
      "metadata": {
        "id": "9fUHkCucR9Ah"
      },
      "execution_count": 70,
      "outputs": []
    },
    {
      "cell_type": "code",
      "source": [
        "year=[]\n",
        "for i in range(len(df)):\n",
        "  year.append(df['birthdate'][i].split(\"-\")[0])\n",
        "current_year = []\n",
        "for i in range(len(df)):\n",
        "  current_year.append(df['age'][i]+int(year[i]))\n",
        "df['current_year'] = current_year"
      ],
      "metadata": {
        "id": "Pp58cqzZxe48"
      },
      "execution_count": 71,
      "outputs": []
    },
    {
      "cell_type": "code",
      "source": [
        "df[\"patient_id\"].value_counts()\n",
        "df_duplicate_pat_drop = df.drop_duplicates(subset = [\"patient_id\"]).reset_index(drop=True)\n",
        "df_duplicate_pat_drop[\"patient_id\"].value_counts()\n"
      ],
      "metadata": {
        "colab": {
          "base_uri": "https://localhost:8080/"
        },
        "id": "NjpnkdxAZKWq",
        "outputId": "97b67594-0484-4abc-99b7-d04bda567645"
      },
      "execution_count": 72,
      "outputs": [
        {
          "output_type": "execute_result",
          "data": {
            "text/plain": [
              "4e8950f7-7766-4b6d-b685-cd28a84000ef    1\n",
              "2d423123-1aa1-43b5-94a0-969de72af959    1\n",
              "806a6397-e95b-4f17-b11b-d97a1f354223    1\n",
              "0c9b61d8-79da-4f25-837a-a14256ef4c78    1\n",
              "77687178-a9b0-4bf5-a8dc-0e334c02a4e5    1\n",
              "                                       ..\n",
              "abbae750-d6a8-4fa9-a3d7-8488d4294be7    1\n",
              "146a696b-b2a6-4c06-b0b0-688e5d6a905a    1\n",
              "23d54869-568a-4b10-9d34-adce843f8844    1\n",
              "faa9340f-a442-4afa-bfd7-a0f4a7255e85    1\n",
              "e051bc97-039a-47b7-8f7c-29fa078643f3    1\n",
              "Name: patient_id, Length: 136, dtype: int64"
            ]
          },
          "metadata": {},
          "execution_count": 72
        }
      ]
    },
    {
      "cell_type": "code",
      "source": [
        "j=0\n",
        "most_encounter_patient_id = jsonObj[\"patient_id\"].value_counts().index.tolist()[0]\n",
        "for i in range(len(df_duplicate_pat_drop)):\n",
        "  if df_duplicate_pat_drop['patient_id'][i] == most_encounter_patient_id:\n",
        "    if j==0:\n",
        "      print(\"The patient with most encounters is: \\n {} {}\".format(df_duplicate_pat_drop['first_name'][i],df_duplicate_pat_drop['last_name'][i]))\n",
        "      j+=1"
      ],
      "metadata": {
        "colab": {
          "base_uri": "https://localhost:8080/"
        },
        "id": "ivKzLf95SC5I",
        "outputId": "c8474283-d4f6-453e-e60e-de5897a4f846"
      },
      "execution_count": 73,
      "outputs": [
        {
          "output_type": "stream",
          "name": "stdout",
          "text": [
            "The patient with most encounters is: \n",
            " Rachel Feil\n"
          ]
        }
      ]
    },
    {
      "cell_type": "code",
      "source": [
        "vaccine_df = jsonObj.loc[jsonObj['encounters']==\"vaccination\"]\n",
        "vaccine_patients_df =  pd.merge(df_duplicate_pat_drop, vaccine_df, \n",
        "                   on='patient_id', \n",
        "                   how='inner')\n"
      ],
      "metadata": {
        "id": "dwFgpjv5TzW-"
      },
      "execution_count": 74,
      "outputs": []
    },
    {
      "cell_type": "code",
      "source": [
        "indexes_gender = vaccine_patients_df['gender'].value_counts().index.tolist()\n",
        "counts_gender = vaccine_patients_df['gender'].value_counts().tolist()\n",
        "print(\"The number of vaccine appointnments per gender are:\\n {} \\t {}\\n {}\\t {}\".format(indexes_gender[0],indexes_gender[1],counts_gender[0],counts_gender[1]))"
      ],
      "metadata": {
        "colab": {
          "base_uri": "https://localhost:8080/"
        },
        "id": "vkf78E8bXjCE",
        "outputId": "15c856fa-08c6-4baa-c6fd-8bc4235599ab"
      },
      "execution_count": 75,
      "outputs": [
        {
          "output_type": "stream",
          "name": "stdout",
          "text": [
            "The number of vaccine appointnments per gender are:\n",
            " Male \t Female\n",
            " 25\t 16\n"
          ]
        }
      ]
    },
    {
      "cell_type": "code",
      "source": [
        "dict_year={'patient_id':df_duplicate_pat_drop['patient_id'],'current_year':df_duplicate_pat_drop['current_year']}\n",
        "df_year = pd.DataFrame(dict_year)\n",
        "encounters_df =  pd.merge(jsonObj, df_year,\n",
        "                   on='patient_id', \n",
        "                   how='inner')\n",
        "indexes_encounters = encounters_df['current_year'].value_counts().index.tolist()\n",
        "counts_encounters = encounters_df['current_year'].value_counts().tolist()\n",
        "print(\"The number of encounters per year are:\\n {} \\t {}\\n {}\\t {}\".format(indexes_encounters[0],indexes_encounters[1],counts_encounters[0],counts_encounters[1]))"
      ],
      "metadata": {
        "colab": {
          "base_uri": "https://localhost:8080/"
        },
        "id": "hjfh83fPz-uo",
        "outputId": "83550f19-4eae-4f09-950b-aad3bcf910cf"
      },
      "execution_count": 76,
      "outputs": [
        {
          "output_type": "stream",
          "name": "stdout",
          "text": [
            "The number of encounters per year are:\n",
            " 2021 \t 2020\n",
            " 389\t 48\n"
          ]
        }
      ]
    },
    {
      "cell_type": "markdown",
      "source": [
        "***For Non-technical audience:***  \n",
        "\n",
        "\n",
        "---\n",
        "\n",
        "\n",
        "**So in the app that i created below, I included 2 drop-down menus. One to select the criteria to be visualized, being the comparison among different age gropus or across different disease types. Second being the criteria you want to distinguish between for the above selected type. i.e distinguish them by age or by encounter type.**    \n",
        "**I feel this is useful because we can first get a sense of what population we are looking at if we see the graph of age stratified by gender. We can see which disease type is most prevelant across which sex if we look at graph with disease type stratified by gender. We can also observe the different encounters across each group to sense of understand which encounter is common across which age group, if we select age stratified by encounter type. Also can look at which encounter is common across different disease types, if we select disease type stratified by encounter type.**   \n",
        "**I included the dropdown, to let the visualizers have the liberty to choose what they wish to see, and also not overwhelm them by presenting all information all at once.**  \n",
        "**The graphs are interactive, meaning you can hover over each bar to get more information**"
      ],
      "metadata": {
        "id": "Kx7D22OJTh_K"
      }
    },
    {
      "cell_type": "code",
      "source": [
        "\n",
        "!pip install jupyter-dash\n",
        "\n",
        "import plotly.express as px\n",
        "from jupyter_dash import JupyterDash\n",
        "import dash_core_components as dcc\n",
        "import dash_html_components as html\n",
        "from dash.dependencies import Input, Output\n",
        "\n",
        "# ## Define the app\n",
        "\n",
        "# # Build App\n",
        "app = JupyterDash(__name__)\n",
        "\n",
        "\n",
        "\n",
        "## Import data stored from part1 of this hw\n",
        "jsonObj = pd.read_json('/'.join((path,'encounters.jsonl')), lines=True)\n",
        "data = pd.read_csv('/'.join((path,'patients.csv')))\n",
        "year=[]\n",
        "for i in range(len(data)):\n",
        "  year.append(data['birthdate'][i].split(\"-\")[0])\n",
        "current_year = []\n",
        "for i in range(len(data)):\n",
        "  current_year.append(data['age'][i]+int(year[i]))\n",
        "data['current_year'] = current_year\n",
        "df_duplicate_pat_drop = data.drop_duplicates(subset = [\"patient_id\"]).reset_index(drop=True)\n",
        "dict_year={'patient_id':df_duplicate_pat_drop['patient_id'],'current_year':df_duplicate_pat_drop['current_year']}\n",
        "df_year = pd.DataFrame(dict_year)\n",
        "encounters_df =  pd.merge(jsonObj, df_year,\n",
        "                   on='patient_id', \n",
        "                   how='inner')\n",
        "df = pd.merge(df_duplicate_pat_drop,encounters_df,on=\"patient_id\",how=\"inner\")\n",
        "\n",
        "\n",
        "\n",
        "## This creates the layout of the page\n",
        "app.layout = html.Div([\n",
        "    html.H1(\"Visualizations for data provided\"),\n",
        "     html.H1(\"\"),\n",
        "    html.H2(\"Select from the following dropdown, either age or disease, based on what information you want to visulaize\"),\n",
        "    dcc.Dropdown(options = [\n",
        "        {'label' : 'age', 'value' : \"age\"},\n",
        "        {'label' : 'disease', 'value' : \"condition_dataset\"}\n",
        "    ],\n",
        "    value = \"age\", id = 'feature_type'\n",
        "                ),\n",
        "    html.H2(\"Select from the following dropdown, either gender or encounters, based on how you wish to look at grouped data\"),\n",
        "    dcc.Dropdown(options = [\n",
        "        {'label' : 'gender', 'value' : \"gender\"},\n",
        "        {'label' : 'encounters', 'value' : \"encounters\"}\n",
        "    ],\n",
        "    value = \"gender\", id = 'group_by_feature_type'\n",
        "                ),\n",
        "    html.H2(\"Here's a graph, based off your inputs\"),\n",
        "    dcc.Graph(id = 'output-graph')\n",
        "])\n",
        "\n",
        "@app.callback(\n",
        "    Output('output-graph', 'figure'),\n",
        "    Input(component_id  = 'feature_type', component_property = 'value'),\n",
        "    Input(component_id  = 'group_by_feature_type', component_property = 'value'))\n",
        "def get_figure(feature,group_by_feature):\n",
        "  if group_by_feature==\"gender\":\n",
        "    if feature!=\"age\":\n",
        "      count_series = df.groupby([feature,group_by_feature]).gender.count()\n",
        "      new_df = count_series.to_frame(name = 'count').reset_index()\n",
        "    else:\n",
        "      bins = np.arange(10, 100, 10)\n",
        "\n",
        "      df['category'] = np.digitize(df.age, bins, right=True)\n",
        "\n",
        "      counts = df.groupby(['category', group_by_feature]).gender.count()\n",
        "      new_df = counts.to_frame(name = 'count').reset_index()\n",
        "      new_df = new_df.rename(columns={\"category\":\"age\"}) \n",
        "  else:\n",
        "    if feature!=\"age\":\n",
        "      count_series = df.groupby([feature,group_by_feature]).encounters.count()\n",
        "      new_df = count_series.to_frame(name = 'count').reset_index()\n",
        "    else:\n",
        "      bins = np.arange(10, 100, 10)\n",
        "\n",
        "      df['category'] = np.digitize(df.age, bins, right=True)\n",
        "\n",
        "      counts = df.groupby(['category', group_by_feature]).encounters.count()\n",
        "      new_df = counts.to_frame(name = 'count').reset_index()\n",
        "      new_df = new_df.rename(columns={\"category\":\"age\"})        \n",
        "  fig = px.bar(new_df, x=feature, y=\"count\", color=group_by_feature,color_continuous_scale=\"Bluered\", barmode=\"group\")\n",
        "  if feature==\"age\":\n",
        "    fig.update_xaxes(tickangle=45,\n",
        "                 tickmode = 'array',\n",
        "                 tickvals = [0,1,2,3,4,5,6,7,8,9],\n",
        "                 ticktext=[\"0-10 years\",\"10-20 years\",\"20-30 years\",\"30-40 years\",\"40-50 years\",\"50-60 years\",\"60-70 years\",\"70-80 years\",\"80-90 years\",\"90-100 years\"])\n",
        "  return fig\n",
        "\n",
        "if __name__ == '__main__':\n",
        "  app.run_server(debug=True)"
      ],
      "metadata": {
        "colab": {
          "base_uri": "https://localhost:8080/",
          "height": 814
        },
        "id": "xt1yDyn05zeY",
        "outputId": "b7162f09-c151-4f16-f858-a49ddbc2206d"
      },
      "execution_count": 77,
      "outputs": [
        {
          "output_type": "stream",
          "name": "stdout",
          "text": [
            "Requirement already satisfied: jupyter-dash in /usr/local/lib/python3.7/dist-packages (0.4.2)\n",
            "Requirement already satisfied: nest-asyncio in /usr/local/lib/python3.7/dist-packages (from jupyter-dash) (1.5.5)\n",
            "Requirement already satisfied: flask in /usr/local/lib/python3.7/dist-packages (from jupyter-dash) (1.1.4)\n",
            "Requirement already satisfied: ipykernel in /usr/local/lib/python3.7/dist-packages (from jupyter-dash) (4.10.1)\n",
            "Requirement already satisfied: requests in /usr/local/lib/python3.7/dist-packages (from jupyter-dash) (2.23.0)\n",
            "Requirement already satisfied: dash in /usr/local/lib/python3.7/dist-packages (from jupyter-dash) (2.3.1)\n",
            "Requirement already satisfied: ansi2html in /usr/local/lib/python3.7/dist-packages (from jupyter-dash) (1.7.0)\n",
            "Requirement already satisfied: retrying in /usr/local/lib/python3.7/dist-packages (from jupyter-dash) (1.3.3)\n",
            "Requirement already satisfied: ipython in /usr/local/lib/python3.7/dist-packages (from jupyter-dash) (5.5.0)\n",
            "Requirement already satisfied: importlib-metadata in /usr/local/lib/python3.7/dist-packages (from ansi2html->jupyter-dash) (4.11.3)\n",
            "Requirement already satisfied: plotly>=5.0.0 in /usr/local/lib/python3.7/dist-packages (from dash->jupyter-dash) (5.5.0)\n",
            "Requirement already satisfied: dash-html-components==2.0.0 in /usr/local/lib/python3.7/dist-packages (from dash->jupyter-dash) (2.0.0)\n",
            "Requirement already satisfied: dash-core-components==2.0.0 in /usr/local/lib/python3.7/dist-packages (from dash->jupyter-dash) (2.0.0)\n",
            "Requirement already satisfied: dash-table==5.0.0 in /usr/local/lib/python3.7/dist-packages (from dash->jupyter-dash) (5.0.0)\n",
            "Requirement already satisfied: flask-compress in /usr/local/lib/python3.7/dist-packages (from dash->jupyter-dash) (1.11)\n",
            "Requirement already satisfied: itsdangerous<2.0,>=0.24 in /usr/local/lib/python3.7/dist-packages (from flask->jupyter-dash) (1.1.0)\n",
            "Requirement already satisfied: click<8.0,>=5.1 in /usr/local/lib/python3.7/dist-packages (from flask->jupyter-dash) (7.1.2)\n",
            "Requirement already satisfied: Jinja2<3.0,>=2.10.1 in /usr/local/lib/python3.7/dist-packages (from flask->jupyter-dash) (2.11.3)\n",
            "Requirement already satisfied: Werkzeug<2.0,>=0.15 in /usr/local/lib/python3.7/dist-packages (from flask->jupyter-dash) (1.0.1)\n",
            "Requirement already satisfied: MarkupSafe>=0.23 in /usr/local/lib/python3.7/dist-packages (from Jinja2<3.0,>=2.10.1->flask->jupyter-dash) (2.0.1)\n",
            "Requirement already satisfied: tenacity>=6.2.0 in /usr/local/lib/python3.7/dist-packages (from plotly>=5.0.0->dash->jupyter-dash) (8.0.1)\n",
            "Requirement already satisfied: six in /usr/local/lib/python3.7/dist-packages (from plotly>=5.0.0->dash->jupyter-dash) (1.15.0)\n",
            "Requirement already satisfied: brotli in /usr/local/lib/python3.7/dist-packages (from flask-compress->dash->jupyter-dash) (1.0.9)\n",
            "Requirement already satisfied: typing-extensions>=3.6.4 in /usr/local/lib/python3.7/dist-packages (from importlib-metadata->ansi2html->jupyter-dash) (4.1.1)\n",
            "Requirement already satisfied: zipp>=0.5 in /usr/local/lib/python3.7/dist-packages (from importlib-metadata->ansi2html->jupyter-dash) (3.8.0)\n",
            "Requirement already satisfied: traitlets>=4.1.0 in /usr/local/lib/python3.7/dist-packages (from ipykernel->jupyter-dash) (5.1.1)\n",
            "Requirement already satisfied: jupyter-client in /usr/local/lib/python3.7/dist-packages (from ipykernel->jupyter-dash) (5.3.5)\n",
            "Requirement already satisfied: tornado>=4.0 in /usr/local/lib/python3.7/dist-packages (from ipykernel->jupyter-dash) (5.1.1)\n",
            "Requirement already satisfied: pexpect in /usr/local/lib/python3.7/dist-packages (from ipython->jupyter-dash) (4.8.0)\n",
            "Requirement already satisfied: setuptools>=18.5 in /usr/local/lib/python3.7/dist-packages (from ipython->jupyter-dash) (57.4.0)\n",
            "Requirement already satisfied: pickleshare in /usr/local/lib/python3.7/dist-packages (from ipython->jupyter-dash) (0.7.5)\n",
            "Requirement already satisfied: decorator in /usr/local/lib/python3.7/dist-packages (from ipython->jupyter-dash) (4.4.2)\n",
            "Requirement already satisfied: prompt-toolkit<2.0.0,>=1.0.4 in /usr/local/lib/python3.7/dist-packages (from ipython->jupyter-dash) (1.0.18)\n",
            "Requirement already satisfied: pygments in /usr/local/lib/python3.7/dist-packages (from ipython->jupyter-dash) (2.6.1)\n",
            "Requirement already satisfied: simplegeneric>0.8 in /usr/local/lib/python3.7/dist-packages (from ipython->jupyter-dash) (0.8.1)\n",
            "Requirement already satisfied: wcwidth in /usr/local/lib/python3.7/dist-packages (from prompt-toolkit<2.0.0,>=1.0.4->ipython->jupyter-dash) (0.2.5)\n",
            "Requirement already satisfied: jupyter-core>=4.6.0 in /usr/local/lib/python3.7/dist-packages (from jupyter-client->ipykernel->jupyter-dash) (4.9.2)\n",
            "Requirement already satisfied: python-dateutil>=2.1 in /usr/local/lib/python3.7/dist-packages (from jupyter-client->ipykernel->jupyter-dash) (2.8.2)\n",
            "Requirement already satisfied: pyzmq>=13 in /usr/local/lib/python3.7/dist-packages (from jupyter-client->ipykernel->jupyter-dash) (22.3.0)\n",
            "Requirement already satisfied: ptyprocess>=0.5 in /usr/local/lib/python3.7/dist-packages (from pexpect->ipython->jupyter-dash) (0.7.0)\n",
            "Requirement already satisfied: idna<3,>=2.5 in /usr/local/lib/python3.7/dist-packages (from requests->jupyter-dash) (2.10)\n",
            "Requirement already satisfied: chardet<4,>=3.0.2 in /usr/local/lib/python3.7/dist-packages (from requests->jupyter-dash) (3.0.4)\n",
            "Requirement already satisfied: certifi>=2017.4.17 in /usr/local/lib/python3.7/dist-packages (from requests->jupyter-dash) (2021.10.8)\n",
            "Requirement already satisfied: urllib3!=1.25.0,!=1.25.1,<1.26,>=1.21.1 in /usr/local/lib/python3.7/dist-packages (from requests->jupyter-dash) (1.24.3)\n",
            "Dash app running on:\n"
          ]
        },
        {
          "output_type": "display_data",
          "data": {
            "text/plain": [
              "<IPython.core.display.Javascript object>"
            ],
            "application/javascript": [
              "(async (port, path, text, element) => {\n",
              "    if (!google.colab.kernel.accessAllowed) {\n",
              "      return;\n",
              "    }\n",
              "    element.appendChild(document.createTextNode(''));\n",
              "    const url = await google.colab.kernel.proxyPort(port);\n",
              "    const anchor = document.createElement('a');\n",
              "    anchor.href = new URL(path, url).toString();\n",
              "    anchor.target = '_blank';\n",
              "    anchor.setAttribute('data-href', url + path);\n",
              "    anchor.textContent = text;\n",
              "    element.appendChild(anchor);\n",
              "  })(8050, \"/\", \"http://127.0.0.1:8050/\", window.element)"
            ]
          },
          "metadata": {}
        }
      ]
    },
    {
      "cell_type": "code",
      "source": [
        "\n",
        "!pip install jupyter-dash\n",
        "\n",
        "import plotly.express as px\n",
        "from jupyter_dash import JupyterDash\n",
        "import dash_core_components as dcc\n",
        "import dash_html_components as html\n",
        "from dash.dependencies import Input, Output\n",
        "\n",
        "# ## Define the app\n",
        "\n",
        "# # Build App\n",
        "app = JupyterDash(__name__)\n",
        "\n",
        "\n",
        "\n",
        "## Import data stored from part1 of this hw\n",
        "jsonObj = pd.read_json('/'.join((path,'encounters.jsonl')), lines=True)\n",
        "data = pd.read_csv('/'.join((path,'patients.csv')))\n",
        "year=[]\n",
        "for i in range(len(data)):\n",
        "  year.append(data['birthdate'][i].split(\"-\")[0])\n",
        "current_year = []\n",
        "for i in range(len(data)):\n",
        "  current_year.append(data['age'][i]+int(year[i]))\n",
        "data['current_year'] = current_year\n",
        "df_duplicate_pat_drop = data.drop_duplicates(subset = [\"patient_id\"]).reset_index(drop=True)\n",
        "dict_year={'patient_id':df_duplicate_pat_drop['patient_id'],'current_year':df_duplicate_pat_drop['current_year']}\n",
        "df_year = pd.DataFrame(dict_year)\n",
        "encounters_df =  pd.merge(jsonObj, df_year,\n",
        "                   on='patient_id', \n",
        "                   how='inner')\n",
        "df = pd.merge(df_duplicate_pat_drop,encounters_df,on=\"patient_id\",how=\"inner\")\n",
        "\n",
        "\n",
        "\n",
        "## This creates the layout of the page\n",
        "app.layout = html.Div([\n",
        "    html.H1(\"Visualizations for data provided\"),\n",
        "     html.H1(\"\"),\n",
        "    html.H2(\"Select from the following dropdown, either age or disease, based on what information you want to visulaize\"),\n",
        "    dcc.Dropdown(options = [\n",
        "        {'label' : 'age', 'value' : \"age\"},\n",
        "        {'label' : 'disease', 'value' : \"condition_dataset\"}\n",
        "    ],\n",
        "    value = \"age\", id = 'feature_type'\n",
        "                ),\n",
        "    html.H2(\"Select from the following dropdown, either gender or encounters, based on how you wish to look at grouped data\"),\n",
        "    dcc.Dropdown(options = [\n",
        "        {'label' : 'gender', 'value' : \"gender\"},\n",
        "        {'label' : 'encounters', 'value' : \"encounters\"}\n",
        "    ],\n",
        "    value = \"gender\", id = 'group_by_feature_type'\n",
        "                ),\n",
        "    html.H2(\"Here's a graph, based off your inputs\"),\n",
        "    dcc.Graph(id = 'output-graph')\n",
        "])\n",
        "\n",
        "@app.callback(\n",
        "    Output('output-graph', 'figure'),\n",
        "    Input(component_id  = 'feature_type', component_property = 'value'),\n",
        "    Input(component_id  = 'group_by_feature_type', component_property = 'value'))\n",
        "def get_figure(feature,group_by_feature):\n",
        "  if group_by_feature==\"gender\":\n",
        "    if feature!=\"age\":\n",
        "      count_series = df.groupby([feature,group_by_feature]).gender.count()\n",
        "      new_df = count_series.to_frame(name = 'count').reset_index()\n",
        "    else:\n",
        "      bins = np.arange(10, 100, 10)\n",
        "\n",
        "      df['category'] = np.digitize(df.age, bins, right=True)\n",
        "\n",
        "      counts = df.groupby(['category', group_by_feature]).gender.count()\n",
        "      new_df = counts.to_frame(name = 'count').reset_index()\n",
        "      new_df = new_df.rename(columns={\"category\":\"age\"}) \n",
        "  else:\n",
        "    if feature!=\"age\":\n",
        "      count_series = df.groupby([feature,group_by_feature]).encounters.count()\n",
        "      new_df = count_series.to_frame(name = 'count').reset_index()\n",
        "    else:\n",
        "      bins = np.arange(10, 100, 10)\n",
        "\n",
        "      df['category'] = np.digitize(df.age, bins, right=True)\n",
        "\n",
        "      counts = df.groupby(['category', group_by_feature]).encounters.count()\n",
        "      new_df = counts.to_frame(name = 'count').reset_index()\n",
        "      new_df = new_df.rename(columns={\"category\":\"age\"})        \n",
        "  fig = px.bar(new_df, x=feature, y=\"count\", color=group_by_feature,color_continuous_scale=\"Bluered\", barmode=\"group\")\n",
        "  if feature==\"age\":\n",
        "    fig.update_xaxes(tickangle=45,\n",
        "                 tickmode = 'array',\n",
        "                 tickvals = [0,1,2,3,4,5,6,7,8,9],\n",
        "                 ticktext=[\"0-10 years\",\"10-20 years\",\"20-30 years\",\"30-40 years\",\"40-50 years\",\"50-60 years\",\"60-70 years\",\"70-80 years\",\"80-90 years\",\"90-100 years\"])\n",
        "  return fig\n",
        "\n",
        "app.run_server(mode='inline')"
      ],
      "metadata": {
        "colab": {
          "base_uri": "https://localhost:8080/",
          "height": 1000
        },
        "id": "qS5A0JCDAOgM",
        "outputId": "4133dd9c-2060-4d56-8275-fe126a448d06"
      },
      "execution_count": 78,
      "outputs": [
        {
          "output_type": "stream",
          "name": "stdout",
          "text": [
            "Requirement already satisfied: jupyter-dash in /usr/local/lib/python3.7/dist-packages (0.4.2)\n",
            "Requirement already satisfied: dash in /usr/local/lib/python3.7/dist-packages (from jupyter-dash) (2.3.1)\n",
            "Requirement already satisfied: nest-asyncio in /usr/local/lib/python3.7/dist-packages (from jupyter-dash) (1.5.5)\n",
            "Requirement already satisfied: flask in /usr/local/lib/python3.7/dist-packages (from jupyter-dash) (1.1.4)\n",
            "Requirement already satisfied: retrying in /usr/local/lib/python3.7/dist-packages (from jupyter-dash) (1.3.3)\n",
            "Requirement already satisfied: ipython in /usr/local/lib/python3.7/dist-packages (from jupyter-dash) (5.5.0)\n",
            "Requirement already satisfied: requests in /usr/local/lib/python3.7/dist-packages (from jupyter-dash) (2.23.0)\n",
            "Requirement already satisfied: ipykernel in /usr/local/lib/python3.7/dist-packages (from jupyter-dash) (4.10.1)\n",
            "Requirement already satisfied: ansi2html in /usr/local/lib/python3.7/dist-packages (from jupyter-dash) (1.7.0)\n",
            "Requirement already satisfied: importlib-metadata in /usr/local/lib/python3.7/dist-packages (from ansi2html->jupyter-dash) (4.11.3)\n",
            "Requirement already satisfied: dash-core-components==2.0.0 in /usr/local/lib/python3.7/dist-packages (from dash->jupyter-dash) (2.0.0)\n",
            "Requirement already satisfied: plotly>=5.0.0 in /usr/local/lib/python3.7/dist-packages (from dash->jupyter-dash) (5.5.0)\n",
            "Requirement already satisfied: flask-compress in /usr/local/lib/python3.7/dist-packages (from dash->jupyter-dash) (1.11)\n",
            "Requirement already satisfied: dash-html-components==2.0.0 in /usr/local/lib/python3.7/dist-packages (from dash->jupyter-dash) (2.0.0)\n",
            "Requirement already satisfied: dash-table==5.0.0 in /usr/local/lib/python3.7/dist-packages (from dash->jupyter-dash) (5.0.0)\n",
            "Requirement already satisfied: Jinja2<3.0,>=2.10.1 in /usr/local/lib/python3.7/dist-packages (from flask->jupyter-dash) (2.11.3)\n",
            "Requirement already satisfied: click<8.0,>=5.1 in /usr/local/lib/python3.7/dist-packages (from flask->jupyter-dash) (7.1.2)\n",
            "Requirement already satisfied: itsdangerous<2.0,>=0.24 in /usr/local/lib/python3.7/dist-packages (from flask->jupyter-dash) (1.1.0)\n",
            "Requirement already satisfied: Werkzeug<2.0,>=0.15 in /usr/local/lib/python3.7/dist-packages (from flask->jupyter-dash) (1.0.1)\n",
            "Requirement already satisfied: MarkupSafe>=0.23 in /usr/local/lib/python3.7/dist-packages (from Jinja2<3.0,>=2.10.1->flask->jupyter-dash) (2.0.1)\n",
            "Requirement already satisfied: six in /usr/local/lib/python3.7/dist-packages (from plotly>=5.0.0->dash->jupyter-dash) (1.15.0)\n",
            "Requirement already satisfied: tenacity>=6.2.0 in /usr/local/lib/python3.7/dist-packages (from plotly>=5.0.0->dash->jupyter-dash) (8.0.1)\n",
            "Requirement already satisfied: brotli in /usr/local/lib/python3.7/dist-packages (from flask-compress->dash->jupyter-dash) (1.0.9)\n",
            "Requirement already satisfied: zipp>=0.5 in /usr/local/lib/python3.7/dist-packages (from importlib-metadata->ansi2html->jupyter-dash) (3.8.0)\n",
            "Requirement already satisfied: typing-extensions>=3.6.4 in /usr/local/lib/python3.7/dist-packages (from importlib-metadata->ansi2html->jupyter-dash) (4.1.1)\n",
            "Requirement already satisfied: traitlets>=4.1.0 in /usr/local/lib/python3.7/dist-packages (from ipykernel->jupyter-dash) (5.1.1)\n",
            "Requirement already satisfied: tornado>=4.0 in /usr/local/lib/python3.7/dist-packages (from ipykernel->jupyter-dash) (5.1.1)\n",
            "Requirement already satisfied: jupyter-client in /usr/local/lib/python3.7/dist-packages (from ipykernel->jupyter-dash) (5.3.5)\n",
            "Requirement already satisfied: simplegeneric>0.8 in /usr/local/lib/python3.7/dist-packages (from ipython->jupyter-dash) (0.8.1)\n",
            "Requirement already satisfied: pexpect in /usr/local/lib/python3.7/dist-packages (from ipython->jupyter-dash) (4.8.0)\n",
            "Requirement already satisfied: decorator in /usr/local/lib/python3.7/dist-packages (from ipython->jupyter-dash) (4.4.2)\n",
            "Requirement already satisfied: pickleshare in /usr/local/lib/python3.7/dist-packages (from ipython->jupyter-dash) (0.7.5)\n",
            "Requirement already satisfied: setuptools>=18.5 in /usr/local/lib/python3.7/dist-packages (from ipython->jupyter-dash) (57.4.0)\n",
            "Requirement already satisfied: prompt-toolkit<2.0.0,>=1.0.4 in /usr/local/lib/python3.7/dist-packages (from ipython->jupyter-dash) (1.0.18)\n",
            "Requirement already satisfied: pygments in /usr/local/lib/python3.7/dist-packages (from ipython->jupyter-dash) (2.6.1)\n",
            "Requirement already satisfied: wcwidth in /usr/local/lib/python3.7/dist-packages (from prompt-toolkit<2.0.0,>=1.0.4->ipython->jupyter-dash) (0.2.5)\n",
            "Requirement already satisfied: pyzmq>=13 in /usr/local/lib/python3.7/dist-packages (from jupyter-client->ipykernel->jupyter-dash) (22.3.0)\n",
            "Requirement already satisfied: python-dateutil>=2.1 in /usr/local/lib/python3.7/dist-packages (from jupyter-client->ipykernel->jupyter-dash) (2.8.2)\n",
            "Requirement already satisfied: jupyter-core>=4.6.0 in /usr/local/lib/python3.7/dist-packages (from jupyter-client->ipykernel->jupyter-dash) (4.9.2)\n",
            "Requirement already satisfied: ptyprocess>=0.5 in /usr/local/lib/python3.7/dist-packages (from pexpect->ipython->jupyter-dash) (0.7.0)\n",
            "Requirement already satisfied: idna<3,>=2.5 in /usr/local/lib/python3.7/dist-packages (from requests->jupyter-dash) (2.10)\n",
            "Requirement already satisfied: urllib3!=1.25.0,!=1.25.1,<1.26,>=1.21.1 in /usr/local/lib/python3.7/dist-packages (from requests->jupyter-dash) (1.24.3)\n",
            "Requirement already satisfied: chardet<4,>=3.0.2 in /usr/local/lib/python3.7/dist-packages (from requests->jupyter-dash) (3.0.4)\n",
            "Requirement already satisfied: certifi>=2017.4.17 in /usr/local/lib/python3.7/dist-packages (from requests->jupyter-dash) (2021.10.8)\n"
          ]
        },
        {
          "output_type": "display_data",
          "data": {
            "text/plain": [
              "<IPython.core.display.Javascript object>"
            ],
            "application/javascript": [
              "(async (port, path, width, height, cache, element) => {\n",
              "    if (!google.colab.kernel.accessAllowed && !cache) {\n",
              "      return;\n",
              "    }\n",
              "    element.appendChild(document.createTextNode(''));\n",
              "    const url = await google.colab.kernel.proxyPort(port, {cache});\n",
              "    const iframe = document.createElement('iframe');\n",
              "    iframe.src = new URL(path, url).toString();\n",
              "    iframe.height = height;\n",
              "    iframe.width = width;\n",
              "    iframe.style.border = 0;\n",
              "    element.appendChild(iframe);\n",
              "  })(8050, \"/\", \"100%\", 650, false, window.element)"
            ]
          },
          "metadata": {}
        }
      ]
    }
  ]
}